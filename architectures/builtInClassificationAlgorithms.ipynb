{
 "cells": [
  {
   "cell_type": "markdown",
   "metadata": {
    "colab_type": "text",
    "id": "view-in-github"
   },
   "source": [
    "<a href=\"https://colab.research.google.com/github/Myst-Lee/Advanced-Machine-Learning/blob/main/WOA7015_GroupProject.ipynb\" target=\"_parent\"><img src=\"https://colab.research.google.com/assets/colab-badge.svg\" alt=\"Open In Colab\"/></a>"
   ]
  },
  {
   "cell_type": "code",
   "execution_count": 1,
   "metadata": {
    "id": "IGNC3s6V1soh"
   },
   "outputs": [],
   "source": [
    "import pandas as pd\n",
    "import numpy as np\n",
    "import torch\n",
    "from torch.autograd import Variable\n",
    "import matplotlib.pyplot as plt\n",
    "from sklearn.model_selection import train_test_split\n",
    "from torch.utils.data import Dataset, DataLoader\n",
    "from sklearn.preprocessing import StandardScaler, MinMaxScaler\n",
    "from sklearn.base import BaseEstimator, ClassifierMixin\n",
    "from sklearn.metrics import confusion_matrix, ConfusionMatrixDisplay\n",
    "from sklearn.metrics import accuracy_score\n"
   ]
  },
  {
   "cell_type": "markdown",
   "metadata": {
    "id": "cUHGyCtkAYUO"
   },
   "source": [
    "# **Data Preprocessing**"
   ]
  },
  {
   "cell_type": "code",
   "execution_count": 2,
   "metadata": {},
   "outputs": [
    {
     "data": {
      "text/html": [
       "<div>\n",
       "<style scoped>\n",
       "    .dataframe tbody tr th:only-of-type {\n",
       "        vertical-align: middle;\n",
       "    }\n",
       "\n",
       "    .dataframe tbody tr th {\n",
       "        vertical-align: top;\n",
       "    }\n",
       "\n",
       "    .dataframe thead th {\n",
       "        text-align: right;\n",
       "    }\n",
       "</style>\n",
       "<table border=\"1\" class=\"dataframe\">\n",
       "  <thead>\n",
       "    <tr style=\"text-align: right;\">\n",
       "      <th></th>\n",
       "      <th>Pregnancies</th>\n",
       "      <th>Glucose</th>\n",
       "      <th>BloodPressure</th>\n",
       "      <th>SkinThickness</th>\n",
       "      <th>Insulin</th>\n",
       "      <th>BMI</th>\n",
       "      <th>DiabetesPedigreeFunction</th>\n",
       "      <th>Age</th>\n",
       "      <th>Outcome</th>\n",
       "    </tr>\n",
       "  </thead>\n",
       "  <tbody>\n",
       "    <tr>\n",
       "      <th>0</th>\n",
       "      <td>3</td>\n",
       "      <td>66</td>\n",
       "      <td>85</td>\n",
       "      <td>9</td>\n",
       "      <td>307</td>\n",
       "      <td>5.588269</td>\n",
       "      <td>0.358663</td>\n",
       "      <td>25</td>\n",
       "      <td>1</td>\n",
       "    </tr>\n",
       "    <tr>\n",
       "      <th>1</th>\n",
       "      <td>5</td>\n",
       "      <td>199</td>\n",
       "      <td>62</td>\n",
       "      <td>0</td>\n",
       "      <td>-10</td>\n",
       "      <td>22.837882</td>\n",
       "      <td>0.275430</td>\n",
       "      <td>29</td>\n",
       "      <td>0</td>\n",
       "    </tr>\n",
       "    <tr>\n",
       "      <th>2</th>\n",
       "      <td>5</td>\n",
       "      <td>105</td>\n",
       "      <td>60</td>\n",
       "      <td>30</td>\n",
       "      <td>156</td>\n",
       "      <td>42.685438</td>\n",
       "      <td>0.785674</td>\n",
       "      <td>21</td>\n",
       "      <td>0</td>\n",
       "    </tr>\n",
       "    <tr>\n",
       "      <th>3</th>\n",
       "      <td>11</td>\n",
       "      <td>110</td>\n",
       "      <td>88</td>\n",
       "      <td>2</td>\n",
       "      <td>15</td>\n",
       "      <td>43.782111</td>\n",
       "      <td>0.668618</td>\n",
       "      <td>63</td>\n",
       "      <td>1</td>\n",
       "    </tr>\n",
       "    <tr>\n",
       "      <th>4</th>\n",
       "      <td>1</td>\n",
       "      <td>121</td>\n",
       "      <td>84</td>\n",
       "      <td>32</td>\n",
       "      <td>167</td>\n",
       "      <td>43.361161</td>\n",
       "      <td>0.340283</td>\n",
       "      <td>33</td>\n",
       "      <td>0</td>\n",
       "    </tr>\n",
       "    <tr>\n",
       "      <th>...</th>\n",
       "      <td>...</td>\n",
       "      <td>...</td>\n",
       "      <td>...</td>\n",
       "      <td>...</td>\n",
       "      <td>...</td>\n",
       "      <td>...</td>\n",
       "      <td>...</td>\n",
       "      <td>...</td>\n",
       "      <td>...</td>\n",
       "    </tr>\n",
       "    <tr>\n",
       "      <th>4995</th>\n",
       "      <td>6</td>\n",
       "      <td>53</td>\n",
       "      <td>99</td>\n",
       "      <td>28</td>\n",
       "      <td>23</td>\n",
       "      <td>59.413541</td>\n",
       "      <td>0.416894</td>\n",
       "      <td>30</td>\n",
       "      <td>0</td>\n",
       "    </tr>\n",
       "    <tr>\n",
       "      <th>4996</th>\n",
       "      <td>15</td>\n",
       "      <td>129</td>\n",
       "      <td>73</td>\n",
       "      <td>-5</td>\n",
       "      <td>74</td>\n",
       "      <td>36.345109</td>\n",
       "      <td>0.471418</td>\n",
       "      <td>39</td>\n",
       "      <td>0</td>\n",
       "    </tr>\n",
       "    <tr>\n",
       "      <th>4997</th>\n",
       "      <td>8</td>\n",
       "      <td>135</td>\n",
       "      <td>58</td>\n",
       "      <td>18</td>\n",
       "      <td>93</td>\n",
       "      <td>50.829549</td>\n",
       "      <td>0.493583</td>\n",
       "      <td>39</td>\n",
       "      <td>0</td>\n",
       "    </tr>\n",
       "    <tr>\n",
       "      <th>4998</th>\n",
       "      <td>6</td>\n",
       "      <td>56</td>\n",
       "      <td>38</td>\n",
       "      <td>15</td>\n",
       "      <td>101</td>\n",
       "      <td>46.415951</td>\n",
       "      <td>0.399238</td>\n",
       "      <td>26</td>\n",
       "      <td>0</td>\n",
       "    </tr>\n",
       "    <tr>\n",
       "      <th>4999</th>\n",
       "      <td>8</td>\n",
       "      <td>40</td>\n",
       "      <td>87</td>\n",
       "      <td>9</td>\n",
       "      <td>37</td>\n",
       "      <td>51.422492</td>\n",
       "      <td>0.434083</td>\n",
       "      <td>26</td>\n",
       "      <td>0</td>\n",
       "    </tr>\n",
       "  </tbody>\n",
       "</table>\n",
       "<p>5000 rows × 9 columns</p>\n",
       "</div>"
      ],
      "text/plain": [
       "      Pregnancies  Glucose  BloodPressure  SkinThickness  Insulin        BMI  \\\n",
       "0               3       66             85              9      307   5.588269   \n",
       "1               5      199             62              0      -10  22.837882   \n",
       "2               5      105             60             30      156  42.685438   \n",
       "3              11      110             88              2       15  43.782111   \n",
       "4               1      121             84             32      167  43.361161   \n",
       "...           ...      ...            ...            ...      ...        ...   \n",
       "4995            6       53             99             28       23  59.413541   \n",
       "4996           15      129             73             -5       74  36.345109   \n",
       "4997            8      135             58             18       93  50.829549   \n",
       "4998            6       56             38             15      101  46.415951   \n",
       "4999            8       40             87              9       37  51.422492   \n",
       "\n",
       "      DiabetesPedigreeFunction  Age  Outcome  \n",
       "0                     0.358663   25        1  \n",
       "1                     0.275430   29        0  \n",
       "2                     0.785674   21        0  \n",
       "3                     0.668618   63        1  \n",
       "4                     0.340283   33        0  \n",
       "...                        ...  ...      ...  \n",
       "4995                  0.416894   30        0  \n",
       "4996                  0.471418   39        0  \n",
       "4997                  0.493583   39        0  \n",
       "4998                  0.399238   26        0  \n",
       "4999                  0.434083   26        0  \n",
       "\n",
       "[5000 rows x 9 columns]"
      ]
     },
     "execution_count": 2,
     "metadata": {},
     "output_type": "execute_result"
    }
   ],
   "source": [
    "diabetes_df = pd.read_csv(\"../dataset/synthetic_diabetes.csv\")\n",
    "diabetes_df"
   ]
  },
  {
   "cell_type": "markdown",
   "metadata": {
    "id": "N2bUO62MAfCX"
   },
   "source": [
    "# Scaling the Data"
   ]
  },
  {
   "cell_type": "code",
   "execution_count": 3,
   "metadata": {
    "colab": {
     "base_uri": "https://localhost:8080/",
     "height": 226
    },
    "id": "HthmaNX2AdBc",
    "outputId": "27f08df3-db92-4162-e8e5-76943f15e1df"
   },
   "outputs": [
    {
     "data": {
      "text/html": [
       "<div>\n",
       "<style scoped>\n",
       "    .dataframe tbody tr th:only-of-type {\n",
       "        vertical-align: middle;\n",
       "    }\n",
       "\n",
       "    .dataframe tbody tr th {\n",
       "        vertical-align: top;\n",
       "    }\n",
       "\n",
       "    .dataframe thead th {\n",
       "        text-align: right;\n",
       "    }\n",
       "</style>\n",
       "<table border=\"1\" class=\"dataframe\">\n",
       "  <thead>\n",
       "    <tr style=\"text-align: right;\">\n",
       "      <th></th>\n",
       "      <th>Pregnancies</th>\n",
       "      <th>Glucose</th>\n",
       "      <th>BloodPressure</th>\n",
       "      <th>SkinThickness</th>\n",
       "      <th>Insulin</th>\n",
       "      <th>BMI</th>\n",
       "      <th>DiabetesPedigreeFunction</th>\n",
       "      <th>Age</th>\n",
       "    </tr>\n",
       "  </thead>\n",
       "  <tbody>\n",
       "    <tr>\n",
       "      <th>0</th>\n",
       "      <td>-0.560091</td>\n",
       "      <td>-1.001756</td>\n",
       "      <td>0.789920</td>\n",
       "      <td>-0.617852</td>\n",
       "      <td>2.861756</td>\n",
       "      <td>-3.501002</td>\n",
       "      <td>-0.575183</td>\n",
       "      <td>-0.450755</td>\n",
       "    </tr>\n",
       "    <tr>\n",
       "      <th>1</th>\n",
       "      <td>-0.073394</td>\n",
       "      <td>2.619586</td>\n",
       "      <td>-0.375991</td>\n",
       "      <td>-1.177839</td>\n",
       "      <td>-0.753654</td>\n",
       "      <td>-1.755839</td>\n",
       "      <td>-0.721104</td>\n",
       "      <td>-0.055599</td>\n",
       "    </tr>\n",
       "    <tr>\n",
       "      <th>2</th>\n",
       "      <td>-0.073394</td>\n",
       "      <td>0.060142</td>\n",
       "      <td>-0.477375</td>\n",
       "      <td>0.688784</td>\n",
       "      <td>1.139589</td>\n",
       "      <td>0.252161</td>\n",
       "      <td>0.173433</td>\n",
       "      <td>-0.845912</td>\n",
       "    </tr>\n",
       "    <tr>\n",
       "      <th>3</th>\n",
       "      <td>1.386696</td>\n",
       "      <td>0.196282</td>\n",
       "      <td>0.941996</td>\n",
       "      <td>-1.053397</td>\n",
       "      <td>-0.468527</td>\n",
       "      <td>0.363112</td>\n",
       "      <td>-0.031783</td>\n",
       "      <td>3.303232</td>\n",
       "    </tr>\n",
       "    <tr>\n",
       "      <th>4</th>\n",
       "      <td>-1.046787</td>\n",
       "      <td>0.495792</td>\n",
       "      <td>0.739228</td>\n",
       "      <td>0.813225</td>\n",
       "      <td>1.265045</td>\n",
       "      <td>0.320524</td>\n",
       "      <td>-0.607405</td>\n",
       "      <td>0.339558</td>\n",
       "    </tr>\n",
       "  </tbody>\n",
       "</table>\n",
       "</div>"
      ],
      "text/plain": [
       "   Pregnancies   Glucose  BloodPressure  SkinThickness   Insulin       BMI  \\\n",
       "0    -0.560091 -1.001756       0.789920      -0.617852  2.861756 -3.501002   \n",
       "1    -0.073394  2.619586      -0.375991      -1.177839 -0.753654 -1.755839   \n",
       "2    -0.073394  0.060142      -0.477375       0.688784  1.139589  0.252161   \n",
       "3     1.386696  0.196282       0.941996      -1.053397 -0.468527  0.363112   \n",
       "4    -1.046787  0.495792       0.739228       0.813225  1.265045  0.320524   \n",
       "\n",
       "   DiabetesPedigreeFunction       Age  \n",
       "0                 -0.575183 -0.450755  \n",
       "1                 -0.721104 -0.055599  \n",
       "2                  0.173433 -0.845912  \n",
       "3                 -0.031783  3.303232  \n",
       "4                 -0.607405  0.339558  "
      ]
     },
     "execution_count": 3,
     "metadata": {},
     "output_type": "execute_result"
    }
   ],
   "source": [
    "diabetes_data_copy = diabetes_df.copy(deep = True)\n",
    "\n",
    "sc_X = StandardScaler()\n",
    "X = pd.DataFrame(sc_X.fit_transform(diabetes_data_copy.drop([\"Outcome\"],axis = 1)),\n",
    "        columns=['Pregnancies', 'Glucose', 'BloodPressure', 'SkinThickness', 'Insulin',\n",
    "                 'BMI', 'DiabetesPedigreeFunction', 'Age'\n",
    "                 ])\n",
    "X.head()"
   ]
  },
  {
   "cell_type": "code",
   "execution_count": 4,
   "metadata": {
    "colab": {
     "base_uri": "https://localhost:8080/"
    },
    "id": "3hulHanQBLzi",
    "outputId": "df969253-f91e-4f79-d28c-1e3018e60fbe",
    "scrolled": true
   },
   "outputs": [
    {
     "name": "stdout",
     "output_type": "stream",
     "text": [
      "Train Set x-y: (4250, 8) (4250,)\n",
      "Test Set x-y: (750, 8) (750,)\n"
     ]
    }
   ],
   "source": [
    "y = diabetes_data_copy[\"Outcome\"]\n",
    "X_train, X_test, y_train, y_test = train_test_split(X, y, test_size=0.15, random_state=42)\n",
    "\n",
    "print(\"Train Set x-y:\", X_train.shape, y_train.shape)\n",
    "print(\"Test Set x-y:\", X_test.shape, y_test.shape)"
   ]
  },
  {
   "cell_type": "markdown",
   "metadata": {
    "id": "y8hAnsuxF_7M"
   },
   "source": [
    "# **Model Training**"
   ]
  },
  {
   "cell_type": "markdown",
   "metadata": {},
   "source": [
    "# Logistic Regression"
   ]
  },
  {
   "cell_type": "code",
   "execution_count": 5,
   "metadata": {},
   "outputs": [],
   "source": [
    "performance_lst = {}"
   ]
  },
  {
   "cell_type": "code",
   "execution_count": 6,
   "metadata": {
    "colab": {
     "base_uri": "https://localhost:8080/"
    },
    "id": "cPX2LcEuC79K",
    "outputId": "dad6d2ff-d36f-4a54-cb4b-9716c37545b7",
    "scrolled": true
   },
   "outputs": [
    {
     "name": "stdout",
     "output_type": "stream",
     "text": [
      "Model weights (coefficients): [[ 0.03030399 -0.03884096  0.01449475  0.00596308 -0.02596725  0.02848263\n",
      "   0.05846742 -0.04757149]]\n",
      "Accuracy on test set: 71.73%\n"
     ]
    }
   ],
   "source": [
    "from sklearn.linear_model import LogisticRegression\n",
    "\n",
    "model = LogisticRegression()\n",
    "model.fit(X_train, y_train)\n",
    "y_pred = model.predict(X_test)\n",
    "\n",
    "accuracy = accuracy_score(y_test, y_pred)\n",
    "performance_lst[\"LogisticRegression\"] = accuracy\n",
    "\n",
    "print(\"Model weights (coefficients):\", model.coef_)\n",
    "print(f\"Accuracy on test set: {accuracy * 100:.2f}%\")"
   ]
  },
  {
   "cell_type": "markdown",
   "metadata": {},
   "source": [
    "# K-Neighbors Classifier"
   ]
  },
  {
   "cell_type": "code",
   "execution_count": 7,
   "metadata": {
    "colab": {
     "base_uri": "https://localhost:8080/"
    },
    "id": "2fRCezF1DWE_",
    "outputId": "372e223e-5520-4a92-df5f-3772f88d0130",
    "scrolled": true
   },
   "outputs": [
    {
     "name": "stdout",
     "output_type": "stream",
     "text": [
      "Accuracy on test set: 65.33%\n"
     ]
    }
   ],
   "source": [
    "from sklearn.neighbors import KNeighborsClassifier\n",
    "\n",
    "model = KNeighborsClassifier(n_neighbors=2)\n",
    "model.fit(X_train, y_train)\n",
    "y_pred = model.predict(X_test)\n",
    "\n",
    "accuracy = accuracy_score(y_test, y_pred)\n",
    "performance_lst[\"KNeighborsClassifier\"] = accuracy\n",
    "\n",
    "print(f\"Accuracy on test set: {accuracy * 100:.2f}%\")"
   ]
  },
  {
   "cell_type": "markdown",
   "metadata": {},
   "source": [
    "# Support Vector Classification"
   ]
  },
  {
   "cell_type": "code",
   "execution_count": 8,
   "metadata": {
    "colab": {
     "base_uri": "https://localhost:8080/"
    },
    "id": "pN0AKKKJEObj",
    "outputId": "9cde7e57-a774-442a-9c28-d2509104d0a6"
   },
   "outputs": [
    {
     "name": "stdout",
     "output_type": "stream",
     "text": [
      "Accuracy on test set: 71.73%\n"
     ]
    }
   ],
   "source": [
    "from sklearn.svm import SVC\n",
    "\n",
    "model = SVC(kernel='rbf')  # For linear kernel, or 'rbf' for non-linear\n",
    "model.fit(X_train, y_train)\n",
    "y_pred = model.predict(X_test)\n",
    "\n",
    "accuracy = accuracy_score(y_test, y_pred)\n",
    "performance_lst[\"SVC\"] = accuracy\n",
    "\n",
    "print(f\"Accuracy on test set: {accuracy * 100:.2f}%\")"
   ]
  },
  {
   "cell_type": "markdown",
   "metadata": {},
   "source": [
    "# Decision Tree Classifier"
   ]
  },
  {
   "cell_type": "code",
   "execution_count": 9,
   "metadata": {
    "colab": {
     "base_uri": "https://localhost:8080/"
    },
    "id": "-iheA57CETJy",
    "outputId": "9b0d72dd-9b09-4f88-b4e5-15afa4302d55"
   },
   "outputs": [
    {
     "name": "stdout",
     "output_type": "stream",
     "text": [
      "Accuracy on test set: 56.67%\n"
     ]
    }
   ],
   "source": [
    "from sklearn.tree import DecisionTreeClassifier\n",
    "\n",
    "model = DecisionTreeClassifier()\n",
    "model.fit(X_train, y_train)\n",
    "y_pred = model.predict(X_test)\n",
    "\n",
    "accuracy = accuracy_score(y_test, y_pred)\n",
    "performance_lst[\"DecisionTreeClassifier\"] = accuracy\n",
    "\n",
    "print(f\"Accuracy on test set: {accuracy * 100:.2f}%\")"
   ]
  },
  {
   "cell_type": "markdown",
   "metadata": {},
   "source": [
    "# Random Forest Classifier"
   ]
  },
  {
   "cell_type": "code",
   "execution_count": 10,
   "metadata": {
    "colab": {
     "base_uri": "https://localhost:8080/"
    },
    "id": "Hbg5AoiGEXIw",
    "outputId": "eae45e43-329e-4d37-b959-a4a30a408330"
   },
   "outputs": [
    {
     "name": "stdout",
     "output_type": "stream",
     "text": [
      "Accuracy on test set: 70.53%\n"
     ]
    }
   ],
   "source": [
    "from sklearn.ensemble import RandomForestClassifier\n",
    "\n",
    "model = RandomForestClassifier(n_estimators=100)\n",
    "model.fit(X_train, y_train)\n",
    "y_pred = model.predict(X_test)\n",
    "\n",
    "accuracy = accuracy_score(y_test, y_pred)\n",
    "performance_lst[\"RandomForestClassifier\"] = accuracy\n",
    "\n",
    "print(f\"Accuracy on test set: {accuracy * 100:.2f}%\")"
   ]
  },
  {
   "cell_type": "markdown",
   "metadata": {},
   "source": [
    "# Gaussian Naive Bayes"
   ]
  },
  {
   "cell_type": "code",
   "execution_count": 11,
   "metadata": {
    "colab": {
     "base_uri": "https://localhost:8080/"
    },
    "id": "VTq_35g0EafK",
    "outputId": "6fc6f995-47e3-4bf9-b358-ade4c8403ad7"
   },
   "outputs": [
    {
     "name": "stdout",
     "output_type": "stream",
     "text": [
      "Accuracy on test set: 70.67%\n"
     ]
    }
   ],
   "source": [
    "from sklearn.naive_bayes import GaussianNB\n",
    "\n",
    "model = GaussianNB()\n",
    "model.fit(X_train, y_train)\n",
    "y_pred = model.predict(X_test)\n",
    "\n",
    "accuracy = accuracy_score(y_test, y_pred)\n",
    "performance_lst[\"GaussianNB\"] = accuracy\n",
    "\n",
    "print(f\"Accuracy on test set: {accuracy * 100:.2f}%\")"
   ]
  },
  {
   "cell_type": "markdown",
   "metadata": {},
   "source": [
    "# Gradient Boosting Classifier"
   ]
  },
  {
   "cell_type": "code",
   "execution_count": 12,
   "metadata": {
    "colab": {
     "base_uri": "https://localhost:8080/"
    },
    "id": "nn2unxCeEfsm",
    "outputId": "1b5693b0-33e1-4a2b-e939-87c4b335d909"
   },
   "outputs": [
    {
     "name": "stdout",
     "output_type": "stream",
     "text": [
      "Accuracy on test set: 71.47%\n"
     ]
    }
   ],
   "source": [
    "from sklearn.ensemble import GradientBoostingClassifier\n",
    "\n",
    "model = GradientBoostingClassifier(n_estimators=100)\n",
    "model.fit(X_train, y_train)\n",
    "y_pred = model.predict(X_test)\n",
    "\n",
    "accuracy = accuracy_score(y_test, y_pred)\n",
    "performance_lst[\"GradientBoostingClassifier\"] = accuracy\n",
    "\n",
    "print(f\"Accuracy on test set: {accuracy * 100:.2f}%\")"
   ]
  },
  {
   "cell_type": "markdown",
   "metadata": {},
   "source": [
    "# XGBoost"
   ]
  },
  {
   "cell_type": "code",
   "execution_count": 13,
   "metadata": {
    "colab": {
     "base_uri": "https://localhost:8080/"
    },
    "id": "huyuLKQrEjW2",
    "outputId": "49cbdfa9-d995-460d-c9be-56688ee41863"
   },
   "outputs": [
    {
     "name": "stdout",
     "output_type": "stream",
     "text": [
      "Accuracy on test set: 69.20%\n"
     ]
    }
   ],
   "source": [
    "import xgboost as xgb\n",
    "\n",
    "model = xgb.XGBClassifier(\n",
    "    n_estimators=1000,      # Equivalent to epochs: number of boosting rounds\n",
    "    learning_rate=0.01,    # Learning rate\n",
    "    max_depth=100,           # Max depth of trees\n",
    "    subsample=0.8,         # Proportion of data used for each tree (stochasticity)\n",
    "    colsample_bytree=0.8   # Proportion of features used for each tree\n",
    ")\n",
    "\n",
    "model.fit(X_train, y_train)\n",
    "y_pred = model.predict(X_test)\n",
    "\n",
    "accuracy = accuracy_score(y_test, y_pred)\n",
    "performance_lst[\"xgb\"] = accuracy\n",
    "\n",
    "print(f\"Accuracy on test set: {accuracy * 100:.2f}%\")"
   ]
  },
  {
   "cell_type": "code",
   "execution_count": 14,
   "metadata": {},
   "outputs": [
    {
     "data": {
      "text/plain": [
       "{'LogisticRegression': 0.7173333333333334,\n",
       " 'KNeighborsClassifier': 0.6533333333333333,\n",
       " 'SVC': 0.7173333333333334,\n",
       " 'DecisionTreeClassifier': 0.5666666666666667,\n",
       " 'RandomForestClassifier': 0.7053333333333334,\n",
       " 'GaussianNB': 0.7066666666666667,\n",
       " 'GradientBoostingClassifier': 0.7146666666666667,\n",
       " 'xgb': 0.692}"
      ]
     },
     "execution_count": 14,
     "metadata": {},
     "output_type": "execute_result"
    }
   ],
   "source": [
    "performance_lst"
   ]
  },
  {
   "cell_type": "code",
   "execution_count": null,
   "metadata": {},
   "outputs": [],
   "source": []
  }
 ],
 "metadata": {
  "colab": {
   "include_colab_link": true,
   "provenance": []
  },
  "kernelspec": {
   "display_name": "Python 3 (ipykernel)",
   "language": "python",
   "name": "python3"
  },
  "language_info": {
   "codemirror_mode": {
    "name": "ipython",
    "version": 3
   },
   "file_extension": ".py",
   "mimetype": "text/x-python",
   "name": "python",
   "nbconvert_exporter": "python",
   "pygments_lexer": "ipython3",
   "version": "3.10.12"
  }
 },
 "nbformat": 4,
 "nbformat_minor": 4
}
