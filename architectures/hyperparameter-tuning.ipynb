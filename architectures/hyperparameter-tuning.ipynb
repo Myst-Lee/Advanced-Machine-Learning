{
 "cells": [
  {
   "cell_type": "markdown",
   "metadata": {
    "id": "nCUeJGmto5Mq"
   },
   "source": [
    "# Random Search Parameter Tuning"
   ]
  },
  {
   "cell_type": "code",
   "execution_count": null,
   "metadata": {},
   "outputs": [],
   "source": [
    "from sklearn.model_selection import RandomizedSearchCV\n",
    "from sklearn.neural_network import MLPClassifier\n",
    "from scipy.stats import uniform\n",
    "\n",
    "# Define MLP and hyperparameter distribution\n",
    "mlp = MLPClassifier(max_iter=1000, random_state=42)\n",
    "param_distributions = {\n",
    "    'hidden_layer_sizes': [\n",
    "            (8,), (16,), (32,), (64,),\n",
    "            (8, 8), (16, 8), (32, 16), (64, 32),\n",
    "            (128, 64), (256, 128),\n",
    "            (8, 8, 8), (16, 8, 4), (32, 16, 8),\n",
    "            (64, 32, 16), (128, 64, 32), (256, 128, 64),\n",
    "            (8, 8, 8, 8), (16, 16, 8, 4), \n",
    "            (32, 32, 16, 8), (64, 32, 16, 8), \n",
    "            (128, 64, 32, 16), (256, 128, 64, 32),\n",
    "            (64, 64, 64), (128, 64, 32), (256, 128, 64),\n",
    "        ],\n",
    "    'activation': ['relu', 'tanh', 'logistic'],\n",
    "    'solver': ['adam', 'sgd'],\n",
    "    'alpha': uniform(0.0001, 0.01),\n",
    "    'learning_rate': ['constant', 'adaptive']\n",
    "}\n",
    "\n",
    "# Perform Randomized Search\n",
    "random_search = RandomizedSearchCV(mlp, param_distributions, n_iter=50, cv=3, scoring='accuracy', \n",
    "                                    verbose=2, n_jobs=-1, random_state=42)\n",
    "random_search.fit(X_train, y_train)\n",
    "\n",
    "print(\"Best Parameters:\", random_search.best_params_)\n",
    "print(\"Best Score:\", random_search.best_score_)\n"
   ]
  },
  {
   "cell_type": "code",
   "execution_count": null,
   "metadata": {},
   "outputs": [],
   "source": [
    "evaluate_model(best_mlp, X_test, y_test)"
   ]
  }
 ],
 "metadata": {
  "colab": {
   "collapsed_sections": [
    "jvKrRodaxObx"
   ],
   "provenance": []
  },
  "kernelspec": {
   "display_name": "Python 3 (ipykernel)",
   "language": "python",
   "name": "python3"
  },
  "language_info": {
   "codemirror_mode": {
    "name": "ipython",
    "version": 3
   },
   "file_extension": ".py",
   "mimetype": "text/x-python",
   "name": "python",
   "nbconvert_exporter": "python",
   "pygments_lexer": "ipython3",
   "version": "3.10.12"
  }
 },
 "nbformat": 4,
 "nbformat_minor": 4
}
